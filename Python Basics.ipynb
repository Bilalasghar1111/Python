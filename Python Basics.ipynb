{
 "cells": [
  {
   "cell_type": "code",
   "execution_count": 1,
   "id": "1f07186b",
   "metadata": {},
   "outputs": [
    {
     "name": "stdout",
     "output_type": "stream",
     "text": [
      "Hello, Ali and Hamza!\n"
     ]
    }
   ],
   "source": [
    "# Example: Concatenating strings\n",
    "ali = \"Ali\"\n",
    "hamza = \"Hamza\"\n",
    "greeting = f\"Hello, {ali} and {hamza}!\"\n",
    "print(greeting)\n"
   ]
  },
  {
   "cell_type": "code",
   "execution_count": 2,
   "id": "cde82b30",
   "metadata": {},
   "outputs": [
    {
     "name": "stdout",
     "output_type": "stream",
     "text": [
      "Zain Ali\n"
     ]
    }
   ],
   "source": [
    "name1 = \"Zain\"\n",
    "name2 = \"Ali\"\n",
    "full_name = name1 + \" \" + name2\n",
    "print(full_name)\n"
   ]
  },
  {
   "cell_type": "code",
   "execution_count": 3,
   "id": "43c1341c",
   "metadata": {},
   "outputs": [
    {
     "name": "stdout",
     "output_type": "stream",
     "text": [
      "Zain Ali Hamza Usman Waqas\n"
     ]
    }
   ],
   "source": [
    "zain = \"Zain\"\n",
    "ali = \"Ali\"\n",
    "hamza = \"Hamza\"\n",
    "usman = \"Usman\"\n",
    "waqas = \"Waqas\"\n",
    "\n",
    "full_names = zain + \" \" + ali + \" \" + hamza + \" \" + usman + \" \" + waqas\n",
    "print(full_names)\n"
   ]
  },
  {
   "cell_type": "code",
   "execution_count": 4,
   "id": "9bf14e7a",
   "metadata": {},
   "outputs": [
    {
     "name": "stdout",
     "output_type": "stream",
     "text": [
      "My age is 25\n"
     ]
    }
   ],
   "source": [
    "age = 25\n",
    "message = \"My age is \" + str(age)\n",
    "print(message)\n"
   ]
  },
  {
   "cell_type": "code",
   "execution_count": 5,
   "id": "5c4d040e",
   "metadata": {},
   "outputs": [
    {
     "name": "stdout",
     "output_type": "stream",
     "text": [
      "Zain Ali Hamza Usman Waqas\n"
     ]
    }
   ],
   "source": [
    "names_list = [\"Zain\", \"Ali\", \"Hamza\", \"Usman\", \"Waqas\"]\n",
    "full_names = \" \".join(names_list)\n",
    "print(full_names)\n"
   ]
  },
  {
   "cell_type": "code",
   "execution_count": 6,
   "id": "3ec6a186",
   "metadata": {},
   "outputs": [
    {
     "name": "stdout",
     "output_type": "stream",
     "text": [
      "Zain Ali\n"
     ]
    }
   ],
   "source": [
    "# Using f-strings for Concatenation:\n",
    "zain = \"Zain\"\n",
    "ali = \"Ali\"\n",
    "full_name = f\"{zain} {ali}\"\n",
    "print(full_name)\n"
   ]
  },
  {
   "cell_type": "code",
   "execution_count": 12,
   "id": "8f10e8e8",
   "metadata": {},
   "outputs": [
    {
     "name": "stdout",
     "output_type": "stream",
     "text": [
      "**********\n",
      "**********\n",
      "**********\n",
      "**********\n",
      "**********\n"
     ]
    }
   ],
   "source": [
    "star_line = \"*\" * 10\n",
    "print(star_line)\n",
    "star_line1 = \"*\" * 10\n",
    "print(star_line1)\n",
    "print(star_line1)\n",
    "print(star_line1)\n",
    "print(star_line1)\n"
   ]
  },
  {
   "cell_type": "code",
   "execution_count": 13,
   "id": "d3a4f302",
   "metadata": {},
   "outputs": [
    {
     "name": "stdout",
     "output_type": "stream",
     "text": [
      "Hello World\n"
     ]
    }
   ],
   "source": [
    "# Concatenating with Spaces\n",
    "word1 = \"Hello\"\n",
    "word2 = \"World\"\n",
    "result = word1 + \" \" + word2\n",
    "print(result)\n"
   ]
  },
  {
   "cell_type": "code",
   "execution_count": 14,
   "id": "a7b4435d",
   "metadata": {},
   "outputs": [
    {
     "name": "stdout",
     "output_type": "stream",
     "text": [
      "Zain, Ali, Hamza, Usman, Waqas\n"
     ]
    }
   ],
   "source": [
    "names = [\"Zain\", \"Ali\", \"Hamza\", \"Usman\", \"Waqas\"]\n",
    "result = \", \".join(names)\n",
    "print(result)\n"
   ]
  },
  {
   "cell_type": "code",
   "execution_count": 15,
   "id": "96ddc3e6",
   "metadata": {},
   "outputs": [
    {
     "name": "stdout",
     "output_type": "stream",
     "text": [
      "I have 3 Apples\n"
     ]
    }
   ],
   "source": [
    "quantity = 3\n",
    "item = \"Apples\"\n",
    "message = \"I have \" + str(quantity) + \" \" + item\n",
    "print(message)\n"
   ]
  },
  {
   "cell_type": "code",
   "execution_count": 16,
   "id": "5446628d",
   "metadata": {},
   "outputs": [
    {
     "name": "stdout",
     "output_type": "stream",
     "text": [
      "This is the first line.\n",
      "This is the second line.\n"
     ]
    }
   ],
   "source": [
    "line1 = \"This is the first line.\"\n",
    "line2 = \"This is the second line.\"\n",
    "result = line1 + \"\\n\" + line2  # \\n is the newline character\n",
    "print(result)\n"
   ]
  },
  {
   "cell_type": "code",
   "execution_count": 18,
   "id": "399c4655",
   "metadata": {},
   "outputs": [
    {
     "name": "stdout",
     "output_type": "stream",
     "text": [
      "Hello, Zain\n"
     ]
    }
   ],
   "source": [
    "greeting = \"Hello, \"\n",
    "name = \"Zain\"\n",
    "greeting += name\n",
    "print(greeting)\n"
   ]
  },
  {
   "cell_type": "code",
   "execution_count": 19,
   "id": "999024a9",
   "metadata": {},
   "outputs": [
    {
     "name": "stdout",
     "output_type": "stream",
     "text": [
      "Full Name: Zain Ali\n"
     ]
    }
   ],
   "source": [
    "first_name = \"Zain\"\n",
    "last_name = \"Ali\"\n",
    "print(\"Full Name:\", first_name, last_name)\n"
   ]
  },
  {
   "cell_type": "code",
   "execution_count": 21,
   "id": "09ec254c",
   "metadata": {},
   "outputs": [
    {
     "name": "stdout",
     "output_type": "stream",
     "text": [
      "Last Line \n"
     ]
    }
   ],
   "source": [
    "print(\"Last Line \")"
   ]
  },
  {
   "cell_type": "code",
   "execution_count": null,
   "id": "42612718",
   "metadata": {},
   "outputs": [],
   "source": []
  }
 ],
 "metadata": {
  "kernelspec": {
   "display_name": "Python 3 (ipykernel)",
   "language": "python",
   "name": "python3"
  },
  "language_info": {
   "codemirror_mode": {
    "name": "ipython",
    "version": 3
   },
   "file_extension": ".py",
   "mimetype": "text/x-python",
   "name": "python",
   "nbconvert_exporter": "python",
   "pygments_lexer": "ipython3",
   "version": "3.11.5"
  }
 },
 "nbformat": 4,
 "nbformat_minor": 5
}
