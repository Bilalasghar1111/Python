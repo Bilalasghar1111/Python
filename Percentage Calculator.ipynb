{
 "cells": [
  {
   "cell_type": "markdown",
   "id": "01fd7298",
   "metadata": {},
   "source": [
    "# Five Subject Marks calculator"
   ]
  },
  {
   "cell_type": "code",
   "execution_count": 1,
   "id": "2011bd07",
   "metadata": {},
   "outputs": [
    {
     "name": "stdout",
     "output_type": "stream",
     "text": [
      "Enter Physics marks: 82\n",
      "Enter Math marks: 91\n",
      "Enter Statistics marks: 95\n",
      "Enter Computer marks: 99\n",
      "Enter Chemistry marks: 80\n",
      "The percentage is: 89.4%\n"
     ]
    }
   ],
   "source": [
    "def calculate_percentage(subject_marks):\n",
    "    total_marks = 500  # Assuming each subject has a maximum of 100 marks\n",
    "    try:\n",
    "        percentage = (sum(subject_marks) / total_marks) * 100\n",
    "        return percentage\n",
    "    except ZeroDivisionError:\n",
    "        return \"Error: Total marks cannot be zero\"\n",
    "\n",
    "# Example usage:\n",
    "try:\n",
    "    physics = float(input(\"Enter Physics marks: \"))\n",
    "    math = float(input(\"Enter Math marks: \"))\n",
    "    statistics = float(input(\"Enter Statistics marks: \"))\n",
    "    computer = float(input(\"Enter Computer marks: \"))\n",
    "    chemistry = float(input(\"Enter Chemistry marks: \"))\n",
    "\n",
    "    subject_marks = [physics, math, statistics, computer, chemistry]\n",
    "\n",
    "    percentage = calculate_percentage(subject_marks)\n",
    "    print(f\"The percentage is: {percentage}%\")\n",
    "\n",
    "except ValueError:\n",
    "    print(\"Please enter valid numerical values for subject marks.\")\n"
   ]
  },
  {
   "cell_type": "code",
   "execution_count": null,
   "id": "d7ef4620",
   "metadata": {},
   "outputs": [],
   "source": []
  }
 ],
 "metadata": {
  "kernelspec": {
   "display_name": "Python 3 (ipykernel)",
   "language": "python",
   "name": "python3"
  },
  "language_info": {
   "codemirror_mode": {
    "name": "ipython",
    "version": 3
   },
   "file_extension": ".py",
   "mimetype": "text/x-python",
   "name": "python",
   "nbconvert_exporter": "python",
   "pygments_lexer": "ipython3",
   "version": "3.11.5"
  }
 },
 "nbformat": 4,
 "nbformat_minor": 5
}
