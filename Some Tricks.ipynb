{
 "cells": [
  {
   "cell_type": "code",
   "execution_count": 1,
   "id": "623ce0e8",
   "metadata": {},
   "outputs": [
    {
     "name": "stdout",
     "output_type": "stream",
     "text": [
      "1\n",
      "3\n",
      "5\n",
      "7\n",
      "9\n"
     ]
    }
   ],
   "source": [
    "for num in range(1, 11, 2):\n",
    "    print(num)\n"
   ]
  },
  {
   "cell_type": "code",
   "execution_count": 2,
   "id": "f01ad4dc",
   "metadata": {},
   "outputs": [
    {
     "name": "stdout",
     "output_type": "stream",
     "text": [
      "Ek number dain: 8\n",
      "2\n",
      "4\n",
      "6\n",
      "8\n"
     ]
    }
   ],
   "source": [
    "num = int(input(\"Ek number dain: \"))\n",
    "for i in range(2, num+1, 2):\n",
    "    print(i)\n"
   ]
  },
  {
   "cell_type": "code",
   "execution_count": 3,
   "id": "31721bf1",
   "metadata": {},
   "outputs": [
    {
     "name": "stdout",
     "output_type": "stream",
     "text": [
      "Ek number dain: 79\n",
      "2\n",
      "4\n",
      "6\n",
      "8\n",
      "10\n",
      "12\n",
      "14\n",
      "16\n",
      "18\n",
      "20\n",
      "22\n",
      "24\n",
      "26\n",
      "28\n",
      "30\n",
      "32\n",
      "34\n",
      "36\n",
      "38\n",
      "40\n",
      "42\n",
      "44\n",
      "46\n",
      "48\n",
      "50\n",
      "52\n",
      "54\n",
      "56\n",
      "58\n",
      "60\n",
      "62\n",
      "64\n",
      "66\n",
      "68\n",
      "70\n",
      "72\n",
      "74\n",
      "76\n",
      "78\n"
     ]
    }
   ],
   "source": [
    "num = int(input(\"Ek number dain: \"))\n",
    "for i in range(2, num+1, 2):\n",
    "    print(i)\n",
    "\n",
    "    "
   ]
  },
  {
   "cell_type": "code",
   "execution_count": 6,
   "id": "d09ba6e0",
   "metadata": {},
   "outputs": [
    {
     "name": "stdout",
     "output_type": "stream",
     "text": [
      "Enter Your Word   lalib\n",
      "bilal\n"
     ]
    }
   ],
   "source": [
    "original_string = input(\"Enter Your Word   \")\n",
    "ulta_string = original_string[::-1]\n",
    "print(ulta_string)\n"
   ]
  },
  {
   "cell_type": "code",
   "execution_count": 7,
   "id": "3e3c11ac",
   "metadata": {},
   "outputs": [
    {
     "name": "stdout",
     "output_type": "stream",
     "text": [
      "Pehla number dain: 4\n",
      "Dusra number dain: 7\n",
      "7 bara hai 4 se.\n"
     ]
    }
   ],
   "source": [
    "num1 = int(input(\"Pehla number dain: \"))\n",
    "num2 = int(input(\"Dusra number dain: \"))\n",
    "\n",
    "if num1 > num2:\n",
    "    print(f\"{num1} bara hai {num2} se.\")\n",
    "elif num1 < num2:\n",
    "    print(f\"{num2} bara hai {num1} se.\")\n",
    "else:\n",
    "    print(\"Dono numbers barabar hain.\")\n"
   ]
  },
  {
   "cell_type": "code",
   "execution_count": 8,
   "id": "72f30f68",
   "metadata": {},
   "outputs": [
    {
     "name": "stdout",
     "output_type": "stream",
     "text": [
      "Pehla number dain: 33\n",
      "Dusra number dain: 33\n",
      "Dono numbers barabar hain.\n"
     ]
    }
   ],
   "source": [
    "num1 = int(input(\"Pehla number dain: \"))\n",
    "num2 = int(input(\"Dusra number dain: \"))\n",
    "\n",
    "if num1 > num2:\n",
    "    print(f\"{num1} bara hai {num2} se.\")\n",
    "elif num1 < num2:\n",
    "    print(f\"{num2} bara hai {num1} se.\")\n",
    "else:\n",
    "    print(\"Dono numbers barabar hain.\")\n",
    "\n",
    "    "
   ]
  },
  {
   "cell_type": "code",
   "execution_count": 9,
   "id": "93b17a22",
   "metadata": {},
   "outputs": [
    {
     "name": "stdout",
     "output_type": "stream",
     "text": [
      "Pehla number dain: 777\n",
      "Dusra number dain: 1111\n",
      "1111 bara hai 777 se.\n"
     ]
    }
   ],
   "source": [
    "num1 = int(input(\"Pehla number dain: \"))\n",
    "num2 = int(input(\"Dusra number dain: \"))\n",
    "\n",
    "if num1 > num2:\n",
    "    print(f\"{num1} bara hai {num2} se.\")\n",
    "elif num1 < num2:\n",
    "    print(f\"{num2} bara hai {num1} se.\")\n",
    "else:\n",
    "    print(\"Dono numbers barabar hain.\")\n",
    "\n",
    "    "
   ]
  },
  {
   "cell_type": "code",
   "execution_count": 10,
   "id": "6cf493de",
   "metadata": {},
   "outputs": [
    {
     "name": "stdout",
     "output_type": "stream",
     "text": [
      "List ke numbers ka total: 75\n"
     ]
    }
   ],
   "source": [
    "numbers = [5, 10, 15, 20, 25]\n",
    "total = sum(numbers)\n",
    "print(f\"List ke numbers ka total: {total}\")\n"
   ]
  },
  {
   "cell_type": "code",
   "execution_count": 11,
   "id": "b1ca962d",
   "metadata": {},
   "outputs": [
    {
     "name": "stdout",
     "output_type": "stream",
     "text": [
      "Element daalein ya 'exit' likhein toh program band hojayega: 12\n",
      "Element daalein ya 'exit' likhein toh program band hojayega: Bilal\n",
      "Element daalein ya 'exit' likhein toh program band hojayega: Zain\n",
      "Element daalein ya 'exit' likhein toh program band hojayega: Zohaib\n",
      "Element daalein ya 'exit' likhein toh program band hojayega: Rozzie\n",
      "Element daalein ya 'exit' likhein toh program band hojayega: exit\n",
      "Aapki list: ['12', 'Bilal', 'Zain', 'Zohaib', 'Rozzie']\n"
     ]
    }
   ],
   "source": [
    "# List banayein\n",
    "my_list = []\n",
    "\n",
    "# User se input lete rahiye jab tak woh nahi chahte\n",
    "while True:\n",
    "    element = input(\"Element daalein ya 'exit' likhein toh program band hojayega: \")\n",
    "\n",
    "    # Agar user 'exit' likhe, toh loop se bahar nikal jayein\n",
    "    if element.lower() == 'exit':\n",
    "        break\n",
    "\n",
    "    # Agar koi aur cheez likhi hai toh list mein add karein\n",
    "    my_list.append(element)\n",
    "\n",
    "# List ko print karein\n",
    "print(\"Aapki list:\", my_list)\n"
   ]
  },
  {
   "cell_type": "code",
   "execution_count": 12,
   "id": "6c7465c7",
   "metadata": {},
   "outputs": [
    {
     "data": {
      "text/plain": [
       "['12', 'Bilal', 'Zain', 'Zohaib', 'Rozzie']"
      ]
     },
     "execution_count": 12,
     "metadata": {},
     "output_type": "execute_result"
    }
   ],
   "source": [
    "my_list\n"
   ]
  },
  {
   "cell_type": "code",
   "execution_count": 13,
   "id": "8b6f43b1",
   "metadata": {},
   "outputs": [
    {
     "name": "stdout",
     "output_type": "stream",
     "text": [
      "Element daalein ya 'exit' likhein toh program band hojayega: f\n",
      "Element daalein ya 'exit' likhein toh program band hojayega: f\n",
      "Element daalein ya 'exit' likhein toh program band hojayega: \n",
      "Element daalein ya 'exit' likhein toh program band hojayega: s\n",
      "Element daalein ya 'exit' likhein toh program band hojayega: g\n",
      "Element daalein ya 'exit' likhein toh program band hojayega: Exit\n",
      "Aapki list: ['f', 'f', '', 's', 'g']\n"
     ]
    }
   ],
   "source": [
    "# List banayein\n",
    "my_list = []\n",
    "\n",
    "# User se input lete rahiye jab tak woh nahi chahte\n",
    "while True:\n",
    "    element = input(\"Element daalein ya 'exit' likhein toh program band hojayega: \")\n",
    "\n",
    "    # Agar user 'exit' likhe, toh loop se bahar nikal jayein\n",
    "    if element.lower() == 'exit':\n",
    "        break\n",
    "\n",
    "    # Agar koi aur cheez likhi hai toh list mein add karein\n",
    "    my_list.append(element)\n",
    "\n",
    "# List ko print karein\n",
    "print(\"Aapki list:\", my_list)\n"
   ]
  },
  {
   "cell_type": "code",
   "execution_count": 14,
   "id": "107c1207",
   "metadata": {},
   "outputs": [
    {
     "name": "stdout",
     "output_type": "stream",
     "text": [
      "Element daalein: d\n",
      "Element daalein: \n",
      "Element daalein: g\n",
      "Aapki list: ['d', '', 'g']\n"
     ]
    }
   ],
   "source": [
    "# List banayein\n",
    "my_list = []\n",
    "\n",
    "# for loop ka istemaal karein\n",
    "for i in range(3):  # Yahan aap jitne chahein utne bar loop chala sakte hain\n",
    "    # User se input lein\n",
    "    element = input(\"Element daalein: \")\n",
    "\n",
    "    # List mein element add karein\n",
    "    my_list.append(element)\n",
    "\n",
    "# List ko print karein\n",
    "print(\"Aapki list:\", my_list)\n"
   ]
  },
  {
   "cell_type": "code",
   "execution_count": 22,
   "id": "fa9568ce",
   "metadata": {},
   "outputs": [
    {
     "name": "stdout",
     "output_type": "stream",
     "text": [
      "Element daalein ya '0' likhein toh program band hojayega: 3\n",
      "Element daalein ya '0' likhein toh program band hojayega: 5\n",
      "Element daalein ya '0' likhein toh program band hojayega: 7\n",
      "Element daalein ya '0' likhein toh program band hojayega: 0\n",
      "Aapki list mein 3 elements hain.\n",
      "Aur un ka sum 15 hai\n"
     ]
    }
   ],
   "source": [
    "# List banayein\n",
    "my_list = []\n",
    "\n",
    "# Ek loop chalayein\n",
    "while True:\n",
    "    # User se input lein\n",
    "    element = int(input(\"Element daalein ya '0' likhein toh program band hojayega: \"))\n",
    "\n",
    "    # Agar user 'exit' likhe, toh loop se bahar nikal jayein\n",
    "    if element == 0:\n",
    "        break\n",
    "\n",
    "    # Agar koi aur cheez likhi hai toh list mein add karein\n",
    "    my_list.append(element)\n",
    "\n",
    "# List mein kitne elements hain, woh batayein\n",
    "print(\"Aapki list mein\", len(my_list), \"elements hain.\")\n",
    "print(\"Aur un ka sum\",sum(my_list),\"hai\")\n"
   ]
  },
  {
   "cell_type": "markdown",
   "id": "cb92fa4a",
   "metadata": {},
   "source": []
  }
 ],
 "metadata": {
  "kernelspec": {
   "display_name": "Python 3 (ipykernel)",
   "language": "python",
   "name": "python3"
  },
  "language_info": {
   "codemirror_mode": {
    "name": "ipython",
    "version": 3
   },
   "file_extension": ".py",
   "mimetype": "text/x-python",
   "name": "python",
   "nbconvert_exporter": "python",
   "pygments_lexer": "ipython3",
   "version": "3.11.5"
  }
 },
 "nbformat": 4,
 "nbformat_minor": 5
}
